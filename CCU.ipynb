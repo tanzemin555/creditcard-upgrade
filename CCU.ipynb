{
 "cells": [
  {
   "cell_type": "code",
   "execution_count": 49,
   "id": "a9e4caff",
   "metadata": {},
   "outputs": [],
   "source": [
    "import pandas"
   ]
  },
  {
   "cell_type": "code",
   "execution_count": 50,
   "id": "6907661c",
   "metadata": {},
   "outputs": [],
   "source": [
    "df = pandas.read_csv(\"CreditCardUpgrade(1).csv\")"
   ]
  },
  {
   "cell_type": "code",
   "execution_count": 51,
   "id": "7b241d14",
   "metadata": {},
   "outputs": [
    {
     "name": "stdout",
     "output_type": "stream",
     "text": [
      "    Upgraded  Purchases  SuppCard\n",
      "0          0    32.1007         0\n",
      "1          1    34.3706         1\n",
      "2          0     4.8749         0\n",
      "3          0     8.1263         0\n",
      "4          0    12.9783         0\n",
      "5          0    16.0471         0\n",
      "6          0    20.6648         0\n",
      "7          1    42.0483         1\n",
      "8          0    42.2264         1\n",
      "9          1    37.9900         1\n",
      "10         1    53.6063         1\n",
      "11         0    38.7936         0\n",
      "12         0    27.9999         0\n",
      "13         1    42.1694         0\n",
      "14         1    56.1997         1\n",
      "15         0    23.7609         0\n",
      "16         0    35.0388         1\n",
      "17         1    49.7388         1\n",
      "18         0    24.7372         0\n",
      "19         1    26.1315         1\n",
      "20         0    31.3220         1\n",
      "21         1    40.1967         1\n",
      "22         0    35.3899         0\n",
      "23         0    30.2280         0\n",
      "24         1    50.3778         0\n",
      "25         0    52.7713         0\n",
      "26         0    27.3728         0\n",
      "27         1    59.2146         1\n",
      "28         1    50.0686         1\n",
      "29         1    35.4234         1\n"
     ]
    }
   ],
   "source": [
    "print(df)"
   ]
  },
  {
   "cell_type": "code",
   "execution_count": 52,
   "id": "27a9051f",
   "metadata": {},
   "outputs": [],
   "source": [
    "X = df.loc[:, [\"Purchases\",\"SuppCard\"]]"
   ]
  },
  {
   "cell_type": "code",
   "execution_count": 53,
   "id": "3754db29",
   "metadata": {},
   "outputs": [],
   "source": [
    "Y = df.loc[:, [\"Upgraded\"]]"
   ]
  },
  {
   "cell_type": "code",
   "execution_count": 54,
   "id": "08ff3411",
   "metadata": {},
   "outputs": [],
   "source": [
    "from sklearn import tree"
   ]
  },
  {
   "cell_type": "code",
   "execution_count": 55,
   "id": "607b31da",
   "metadata": {},
   "outputs": [],
   "source": [
    "model = tree.DecisionTreeClassifier(max_depth = 3)"
   ]
  },
  {
   "cell_type": "code",
   "execution_count": 56,
   "id": "227a20b0",
   "metadata": {},
   "outputs": [],
   "source": [
    "from sklearn.metrics import confusion_matrix"
   ]
  },
  {
   "cell_type": "code",
   "execution_count": 57,
   "id": "4c43eece",
   "metadata": {},
   "outputs": [
    {
     "name": "stdout",
     "output_type": "stream",
     "text": [
      "[[15  2]\n",
      " [ 1 12]]\n",
      "0.9\n"
     ]
    }
   ],
   "source": [
    "model.fit(X,Y)\n",
    "pred = model.predict(X)\n",
    "cm = confusion_matrix(Y, pred)\n",
    "print(cm)\n",
    "print((cm[0,0] + cm[1,1])/(sum(sum(cm))))"
   ]
  },
  {
   "cell_type": "code",
   "execution_count": 58,
   "id": "260ed001",
   "metadata": {},
   "outputs": [],
   "source": [
    "import joblib"
   ]
  },
  {
   "cell_type": "code",
   "execution_count": 59,
   "id": "337be81f",
   "metadata": {},
   "outputs": [
    {
     "data": {
      "text/plain": [
       "['CCU_DT']"
      ]
     },
     "execution_count": 59,
     "metadata": {},
     "output_type": "execute_result"
    }
   ],
   "source": [
    "joblib.dump(model, \"CCU_DT\")"
   ]
  },
  {
   "cell_type": "code",
   "execution_count": 60,
   "id": "86e63c06",
   "metadata": {},
   "outputs": [],
   "source": [
    "from sklearn import linear_model"
   ]
  },
  {
   "cell_type": "code",
   "execution_count": 61,
   "id": "43cd3b93",
   "metadata": {},
   "outputs": [],
   "source": [
    "model = linear_model.LogisticRegression()"
   ]
  },
  {
   "cell_type": "code",
   "execution_count": 62,
   "id": "6bcc9586",
   "metadata": {},
   "outputs": [
    {
     "name": "stdout",
     "output_type": "stream",
     "text": [
      "[[14  3]\n",
      " [ 2 11]]\n",
      "0.8333333333333334\n"
     ]
    },
    {
     "name": "stderr",
     "output_type": "stream",
     "text": [
      "C:\\Users\\xzemi\\anaconda3\\lib\\site-packages\\sklearn\\utils\\validation.py:63: DataConversionWarning: A column-vector y was passed when a 1d array was expected. Please change the shape of y to (n_samples, ), for example using ravel().\n",
      "  return f(*args, **kwargs)\n"
     ]
    }
   ],
   "source": [
    "model.fit(X,Y)\n",
    "pred = model.predict(X)\n",
    "cm = confusion_matrix(Y, pred)\n",
    "print(cm)\n",
    "print((cm[0,0] + cm[1,1])/(sum(sum(cm))))"
   ]
  },
  {
   "cell_type": "code",
   "execution_count": 63,
   "id": "dc32b505",
   "metadata": {},
   "outputs": [
    {
     "data": {
      "text/plain": [
       "['CCU_Reg']"
      ]
     },
     "execution_count": 63,
     "metadata": {},
     "output_type": "execute_result"
    }
   ],
   "source": [
    "joblib.dump(model, \"CCU_Reg\")"
   ]
  },
  {
   "cell_type": "code",
   "execution_count": 64,
   "id": "75ef7e9a",
   "metadata": {},
   "outputs": [],
   "source": [
    "from sklearn.neural_network import MLPClassifier"
   ]
  },
  {
   "cell_type": "code",
   "execution_count": 65,
   "id": "83973a8f",
   "metadata": {},
   "outputs": [],
   "source": [
    "model = MLPClassifier(solver = \"lbfgs\", hidden_layer_sizes = (6,6))"
   ]
  },
  {
   "cell_type": "code",
   "execution_count": 66,
   "id": "754c8499",
   "metadata": {},
   "outputs": [
    {
     "name": "stdout",
     "output_type": "stream",
     "text": [
      "[[13  4]\n",
      " [ 2 11]]\n",
      "0.8\n"
     ]
    },
    {
     "name": "stderr",
     "output_type": "stream",
     "text": [
      "C:\\Users\\xzemi\\anaconda3\\lib\\site-packages\\sklearn\\utils\\validation.py:63: DataConversionWarning: A column-vector y was passed when a 1d array was expected. Please change the shape of y to (n_samples, ), for example using ravel().\n",
      "  return f(*args, **kwargs)\n"
     ]
    }
   ],
   "source": [
    "model.fit(X,Y)\n",
    "pred = model.predict(X)\n",
    "cm = confusion_matrix(Y, pred)\n",
    "print(cm)\n",
    "print((cm[0,0] + cm[1,1])/(sum(sum(cm))))"
   ]
  },
  {
   "cell_type": "code",
   "execution_count": 67,
   "id": "a9ab5238",
   "metadata": {},
   "outputs": [
    {
     "data": {
      "text/plain": [
       "['CCU_NN']"
      ]
     },
     "execution_count": 67,
     "metadata": {},
     "output_type": "execute_result"
    }
   ],
   "source": [
    "joblib.dump(model, \"CCU_NN\")"
   ]
  },
  {
   "cell_type": "code",
   "execution_count": 68,
   "id": "840635d4",
   "metadata": {},
   "outputs": [],
   "source": [
    "from sklearn.ensemble import RandomForestClassifier"
   ]
  },
  {
   "cell_type": "code",
   "execution_count": 69,
   "id": "7b8460a8",
   "metadata": {},
   "outputs": [],
   "source": [
    "model = RandomForestClassifier()"
   ]
  },
  {
   "cell_type": "code",
   "execution_count": 70,
   "id": "acde7e7d",
   "metadata": {},
   "outputs": [
    {
     "name": "stdout",
     "output_type": "stream",
     "text": [
      "[[17  0]\n",
      " [ 0 13]]\n",
      "1.0\n"
     ]
    },
    {
     "name": "stderr",
     "output_type": "stream",
     "text": [
      "C:\\Users\\xzemi\\AppData\\Local\\Temp/ipykernel_9900/4122600112.py:1: DataConversionWarning: A column-vector y was passed when a 1d array was expected. Please change the shape of y to (n_samples,), for example using ravel().\n",
      "  model.fit(X,Y)\n"
     ]
    }
   ],
   "source": [
    "model.fit(X,Y)\n",
    "pred = model.predict(X)\n",
    "cm = confusion_matrix(Y, pred)\n",
    "print(cm)\n",
    "print((cm[0,0] + cm[1,1])/(sum(sum(cm))))"
   ]
  },
  {
   "cell_type": "code",
   "execution_count": 71,
   "id": "a59cd1ff",
   "metadata": {},
   "outputs": [
    {
     "data": {
      "text/plain": [
       "['CCU_RF']"
      ]
     },
     "execution_count": 71,
     "metadata": {},
     "output_type": "execute_result"
    }
   ],
   "source": [
    "joblib.dump(model, \"CCU_RF\")"
   ]
  },
  {
   "cell_type": "code",
   "execution_count": 72,
   "id": "969aae84",
   "metadata": {},
   "outputs": [],
   "source": [
    "from sklearn.ensemble import GradientBoostingClassifier"
   ]
  },
  {
   "cell_type": "code",
   "execution_count": 73,
   "id": "d7510ed9",
   "metadata": {},
   "outputs": [],
   "source": [
    "model = GradientBoostingClassifier()"
   ]
  },
  {
   "cell_type": "code",
   "execution_count": 74,
   "id": "46003387",
   "metadata": {},
   "outputs": [
    {
     "name": "stdout",
     "output_type": "stream",
     "text": [
      "[[17  0]\n",
      " [ 0 13]]\n",
      "1.0\n"
     ]
    },
    {
     "name": "stderr",
     "output_type": "stream",
     "text": [
      "C:\\Users\\xzemi\\anaconda3\\lib\\site-packages\\sklearn\\utils\\validation.py:63: DataConversionWarning: A column-vector y was passed when a 1d array was expected. Please change the shape of y to (n_samples, ), for example using ravel().\n",
      "  return f(*args, **kwargs)\n"
     ]
    }
   ],
   "source": [
    "model.fit(X,Y)\n",
    "pred = model.predict(X)\n",
    "cm = confusion_matrix(Y, pred)\n",
    "print(cm)\n",
    "print((cm[0,0] + cm[1,1])/(sum(sum(cm))))"
   ]
  },
  {
   "cell_type": "code",
   "execution_count": 75,
   "id": "b131aeb9",
   "metadata": {},
   "outputs": [
    {
     "data": {
      "text/plain": [
       "['CCU_GB']"
      ]
     },
     "execution_count": 75,
     "metadata": {},
     "output_type": "execute_result"
    }
   ],
   "source": [
    "joblib.dump(model, \"CCU_GB\")"
   ]
  },
  {
   "cell_type": "code",
   "execution_count": null,
   "id": "31356ec2",
   "metadata": {},
   "outputs": [],
   "source": []
  },
  {
   "cell_type": "code",
   "execution_count": null,
   "id": "71af5d20",
   "metadata": {},
   "outputs": [],
   "source": []
  }
 ],
 "metadata": {
  "kernelspec": {
   "display_name": "Python 3 (ipykernel)",
   "language": "python",
   "name": "python3"
  },
  "language_info": {
   "codemirror_mode": {
    "name": "ipython",
    "version": 3
   },
   "file_extension": ".py",
   "mimetype": "text/x-python",
   "name": "python",
   "nbconvert_exporter": "python",
   "pygments_lexer": "ipython3",
   "version": "3.9.7"
  }
 },
 "nbformat": 4,
 "nbformat_minor": 5
}
